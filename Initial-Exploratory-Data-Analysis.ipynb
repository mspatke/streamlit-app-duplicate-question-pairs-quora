{
 "cells": [
  {
   "cell_type": "code",
   "execution_count": 10,
   "id": "bright-deposit",
   "metadata": {},
   "outputs": [],
   "source": [
    "import numpy as np\n",
    "import pandas as pd\n",
    "import seaborn as sns\n",
    "import matplotlib.pyplot as plt"
   ]
  },
  {
   "cell_type": "code",
   "execution_count": 9,
   "id": "convenient-commission",
   "metadata": {},
   "outputs": [],
   "source": [
    "df = pd.read_csv(\"quora-question-pairs/train.csv\")"
   ]
  },
  {
   "cell_type": "code",
   "execution_count": 11,
   "id": "christian-journal",
   "metadata": {},
   "outputs": [
    {
     "data": {
      "text/plain": [
       "(404290, 6)"
      ]
     },
     "execution_count": 11,
     "metadata": {},
     "output_type": "execute_result"
    }
   ],
   "source": [
    "df.shape"
   ]
  },
  {
   "cell_type": "code",
   "execution_count": 12,
   "id": "informed-compensation",
   "metadata": {},
   "outputs": [
    {
     "data": {
      "text/html": [
       "<div>\n",
       "<style scoped>\n",
       "    .dataframe tbody tr th:only-of-type {\n",
       "        vertical-align: middle;\n",
       "    }\n",
       "\n",
       "    .dataframe tbody tr th {\n",
       "        vertical-align: top;\n",
       "    }\n",
       "\n",
       "    .dataframe thead th {\n",
       "        text-align: right;\n",
       "    }\n",
       "</style>\n",
       "<table border=\"1\" class=\"dataframe\">\n",
       "  <thead>\n",
       "    <tr style=\"text-align: right;\">\n",
       "      <th></th>\n",
       "      <th>id</th>\n",
       "      <th>qid1</th>\n",
       "      <th>qid2</th>\n",
       "      <th>question1</th>\n",
       "      <th>question2</th>\n",
       "      <th>is_duplicate</th>\n",
       "    </tr>\n",
       "  </thead>\n",
       "  <tbody>\n",
       "    <tr>\n",
       "      <th>158016</th>\n",
       "      <td>158016</td>\n",
       "      <td>246932</td>\n",
       "      <td>246933</td>\n",
       "      <td>What is it like to ask to have your name remov...</td>\n",
       "      <td>Should I officially resign from the Mormon chu...</td>\n",
       "      <td>0</td>\n",
       "    </tr>\n",
       "    <tr>\n",
       "      <th>273420</th>\n",
       "      <td>273420</td>\n",
       "      <td>220408</td>\n",
       "      <td>391873</td>\n",
       "      <td>What are rules Muslims have to follow and what...</td>\n",
       "      <td>Is it mandatory to follow the rules which aren...</td>\n",
       "      <td>0</td>\n",
       "    </tr>\n",
       "    <tr>\n",
       "      <th>121745</th>\n",
       "      <td>121745</td>\n",
       "      <td>197224</td>\n",
       "      <td>112423</td>\n",
       "      <td>How do I prepare for IBPS PO exam in 2 months?</td>\n",
       "      <td>How do I crack the IBPS PO exam?</td>\n",
       "      <td>0</td>\n",
       "    </tr>\n",
       "    <tr>\n",
       "      <th>355349</th>\n",
       "      <td>355349</td>\n",
       "      <td>484573</td>\n",
       "      <td>484574</td>\n",
       "      <td>Why does America of late always elect draft do...</td>\n",
       "      <td>i have 3 credit cards one of which has no apr ...</td>\n",
       "      <td>0</td>\n",
       "    </tr>\n",
       "    <tr>\n",
       "      <th>354188</th>\n",
       "      <td>354188</td>\n",
       "      <td>217282</td>\n",
       "      <td>345478</td>\n",
       "      <td>What is the best birthday wish ever?</td>\n",
       "      <td>What is the best birthday wishes?</td>\n",
       "      <td>1</td>\n",
       "    </tr>\n",
       "    <tr>\n",
       "      <th>180611</th>\n",
       "      <td>180611</td>\n",
       "      <td>19487</td>\n",
       "      <td>8067</td>\n",
       "      <td>How can I increase traffic to my site and what...</td>\n",
       "      <td>How can I increase the traffic on my website? ...</td>\n",
       "      <td>1</td>\n",
       "    </tr>\n",
       "    <tr>\n",
       "      <th>45162</th>\n",
       "      <td>45162</td>\n",
       "      <td>66054</td>\n",
       "      <td>35980</td>\n",
       "      <td>What is difference between variance and standa...</td>\n",
       "      <td>How are variance and standard deviation semant...</td>\n",
       "      <td>1</td>\n",
       "    </tr>\n",
       "    <tr>\n",
       "      <th>295689</th>\n",
       "      <td>295689</td>\n",
       "      <td>77028</td>\n",
       "      <td>184978</td>\n",
       "      <td>How many apple seeds do you have to consume to...</td>\n",
       "      <td>Is eating apple seeds bad for you?</td>\n",
       "      <td>0</td>\n",
       "    </tr>\n",
       "    <tr>\n",
       "      <th>115510</th>\n",
       "      <td>115510</td>\n",
       "      <td>188344</td>\n",
       "      <td>188345</td>\n",
       "      <td>What is context management?</td>\n",
       "      <td>What has no context?</td>\n",
       "      <td>0</td>\n",
       "    </tr>\n",
       "    <tr>\n",
       "      <th>137167</th>\n",
       "      <td>137167</td>\n",
       "      <td>218666</td>\n",
       "      <td>218667</td>\n",
       "      <td>What is best app locker app for free?</td>\n",
       "      <td>Can the police arrest based on a false complai...</td>\n",
       "      <td>0</td>\n",
       "    </tr>\n",
       "  </tbody>\n",
       "</table>\n",
       "</div>"
      ],
      "text/plain": [
       "            id    qid1    qid2  \\\n",
       "158016  158016  246932  246933   \n",
       "273420  273420  220408  391873   \n",
       "121745  121745  197224  112423   \n",
       "355349  355349  484573  484574   \n",
       "354188  354188  217282  345478   \n",
       "180611  180611   19487    8067   \n",
       "45162    45162   66054   35980   \n",
       "295689  295689   77028  184978   \n",
       "115510  115510  188344  188345   \n",
       "137167  137167  218666  218667   \n",
       "\n",
       "                                                question1  \\\n",
       "158016  What is it like to ask to have your name remov...   \n",
       "273420  What are rules Muslims have to follow and what...   \n",
       "121745     How do I prepare for IBPS PO exam in 2 months?   \n",
       "355349  Why does America of late always elect draft do...   \n",
       "354188               What is the best birthday wish ever?   \n",
       "180611  How can I increase traffic to my site and what...   \n",
       "45162   What is difference between variance and standa...   \n",
       "295689  How many apple seeds do you have to consume to...   \n",
       "115510                        What is context management?   \n",
       "137167              What is best app locker app for free?   \n",
       "\n",
       "                                                question2  is_duplicate  \n",
       "158016  Should I officially resign from the Mormon chu...             0  \n",
       "273420  Is it mandatory to follow the rules which aren...             0  \n",
       "121745                   How do I crack the IBPS PO exam?             0  \n",
       "355349  i have 3 credit cards one of which has no apr ...             0  \n",
       "354188                  What is the best birthday wishes?             1  \n",
       "180611  How can I increase the traffic on my website? ...             1  \n",
       "45162   How are variance and standard deviation semant...             1  \n",
       "295689                 Is eating apple seeds bad for you?             0  \n",
       "115510                               What has no context?             0  \n",
       "137167  Can the police arrest based on a false complai...             0  "
      ]
     },
     "execution_count": 12,
     "metadata": {},
     "output_type": "execute_result"
    }
   ],
   "source": [
    "df.sample(10)"
   ]
  },
  {
   "cell_type": "code",
   "execution_count": 13,
   "id": "lyric-klein",
   "metadata": {},
   "outputs": [
    {
     "name": "stdout",
     "output_type": "stream",
     "text": [
      "<class 'pandas.core.frame.DataFrame'>\n",
      "RangeIndex: 404290 entries, 0 to 404289\n",
      "Data columns (total 6 columns):\n",
      " #   Column        Non-Null Count   Dtype \n",
      "---  ------        --------------   ----- \n",
      " 0   id            404290 non-null  int64 \n",
      " 1   qid1          404290 non-null  int64 \n",
      " 2   qid2          404290 non-null  int64 \n",
      " 3   question1     404289 non-null  object\n",
      " 4   question2     404288 non-null  object\n",
      " 5   is_duplicate  404290 non-null  int64 \n",
      "dtypes: int64(4), object(2)\n",
      "memory usage: 18.5+ MB\n"
     ]
    }
   ],
   "source": [
    "df.info()"
   ]
  },
  {
   "cell_type": "code",
   "execution_count": 14,
   "id": "instant-interstate",
   "metadata": {},
   "outputs": [
    {
     "data": {
      "text/plain": [
       "id              0\n",
       "qid1            0\n",
       "qid2            0\n",
       "question1       1\n",
       "question2       2\n",
       "is_duplicate    0\n",
       "dtype: int64"
      ]
     },
     "execution_count": 14,
     "metadata": {},
     "output_type": "execute_result"
    }
   ],
   "source": [
    "#Missing values\n",
    "\n",
    "df.isnull().sum()"
   ]
  },
  {
   "cell_type": "code",
   "execution_count": 15,
   "id": "legislative-timber",
   "metadata": {},
   "outputs": [
    {
     "data": {
      "text/plain": [
       "0"
      ]
     },
     "execution_count": 15,
     "metadata": {},
     "output_type": "execute_result"
    }
   ],
   "source": [
    "df.duplicated().sum()"
   ]
  },
  {
   "cell_type": "code",
   "execution_count": 16,
   "id": "noted-shanghai",
   "metadata": {},
   "outputs": [
    {
     "name": "stdout",
     "output_type": "stream",
     "text": [
      "0    255027\n",
      "1    149263\n",
      "Name: is_duplicate, dtype: int64\n"
     ]
    }
   ],
   "source": [
    "#distribustion of duplicate data\n",
    "\n",
    "print(df['is_duplicate'].value_counts())"
   ]
  },
  {
   "cell_type": "code",
   "execution_count": 19,
   "id": "military-landing",
   "metadata": {},
   "outputs": [
    {
     "name": "stdout",
     "output_type": "stream",
     "text": [
      "0    63.080215\n",
      "1    36.919785\n",
      "Name: is_duplicate, dtype: float64\n"
     ]
    }
   ],
   "source": [
    "print((df['is_duplicate'].value_counts()/df['is_duplicate'].count())*100)"
   ]
  },
  {
   "cell_type": "code",
   "execution_count": 20,
   "id": "changing-transcript",
   "metadata": {},
   "outputs": [
    {
     "data": {
      "text/plain": [
       "<AxesSubplot:>"
      ]
     },
     "execution_count": 20,
     "metadata": {},
     "output_type": "execute_result"
    },
    {
     "data": {
      "image/png": "[encoded data removed]",
      "text/plain": [
       "<Figure size 432x288 with 1 Axes>"
      ]
     },
     "metadata": {
      "needs_background": "light"
     },
     "output_type": "display_data"
    }
   ],
   "source": [
    "df['is_duplicate'].value_counts().plot(kind='bar')"
   ]
  },
  {
   "cell_type": "code",
   "execution_count": 22,
   "id": "italic-torture",
   "metadata": {},
   "outputs": [],
   "source": [
    "#Repeated Data\n",
    "\n",
    "qid = pd.Series(df['qid1'].tolist() + df['qid2'].tolist())"
   ]
  },
  {
   "cell_type": "code",
   "execution_count": 25,
   "id": "impressive-uncle",
   "metadata": {},
   "outputs": [
    {
     "name": "stdout",
     "output_type": "stream",
     "text": [
      "Number of unique questions = 537933\n"
     ]
    }
   ],
   "source": [
    "print(\"Number of unique questions =\", np.unique(qid).shape[0])"
   ]
  },
  {
   "cell_type": "code",
   "execution_count": 28,
   "id": "grand-karen",
   "metadata": {},
   "outputs": [],
   "source": [
    "x = qid.value_counts()>1"
   ]
  },
  {
   "cell_type": "code",
   "execution_count": 29,
   "id": "verified-spectrum",
   "metadata": {},
   "outputs": [
    {
     "data": {
      "text/plain": [
       "2559       True\n",
       "30782      True\n",
       "4044       True\n",
       "2561       True\n",
       "14376      True\n",
       "          ...  \n",
       "75109     False\n",
       "81254     False\n",
       "85352     False\n",
       "83305     False\n",
       "168274    False\n",
       "Length: 537933, dtype: bool"
      ]
     },
     "execution_count": 29,
     "metadata": {},
     "output_type": "execute_result"
    }
   ],
   "source": [
    "x"
   ]
  },
  {
   "cell_type": "code",
   "execution_count": 30,
   "id": "incorporate-tenant",
   "metadata": {},
   "outputs": [
    {
     "name": "stdout",
     "output_type": "stream",
     "text": [
      "Number of questions getting repeated 111780\n"
     ]
    }
   ],
   "source": [
    "print(\"Number of questions getting repeated\",x[x].shape[0])"
   ]
  },
  {
   "cell_type": "code",
   "execution_count": 33,
   "id": "racial-bennett",
   "metadata": {},
   "outputs": [
    {
     "data": {
      "text/plain": [
       "(808580,)"
      ]
     },
     "execution_count": 33,
     "metadata": {},
     "output_type": "execute_result"
    }
   ],
   "source": [
    "qid.shape"
   ]
  },
  {
   "cell_type": "code",
   "execution_count": 34,
   "id": "historic-consumption",
   "metadata": {},
   "outputs": [
    {
     "data": {
      "text/plain": [
       "404290"
      ]
     },
     "execution_count": 34,
     "metadata": {},
     "output_type": "execute_result"
    }
   ],
   "source": [
    "len(df['qid1'])"
   ]
  },
  {
   "cell_type": "code",
   "execution_count": 35,
   "id": "laden-dutch",
   "metadata": {},
   "outputs": [
    {
     "data": {
      "text/plain": [
       "404290"
      ]
     },
     "execution_count": 35,
     "metadata": {},
     "output_type": "execute_result"
    }
   ],
   "source": [
    "len(df['qid2'])"
   ]
  },
  {
   "cell_type": "code",
   "execution_count": 36,
   "id": "fresh-transmission",
   "metadata": {},
   "outputs": [
    {
     "data": {
      "text/plain": [
       "808580"
      ]
     },
     "execution_count": 36,
     "metadata": {},
     "output_type": "execute_result"
    }
   ],
   "source": [
    "len(qid)"
   ]
  },
  {
   "cell_type": "code",
   "execution_count": 41,
   "id": "smooth-struggle",
   "metadata": {},
   "outputs": [
    {
     "data": {
      "image/png": "[encoded data removed]",
      "text/plain": [
       "<Figure size 432x288 with 1 Axes>"
      ]
     },
     "metadata": {
      "needs_background": "light"
     },
     "output_type": "display_data"
    }
   ],
   "source": [
    "plt.hist(qid.value_counts().values,bins=60)\n",
    "plt.yscale('log')\n",
    "plt.show()"
   ]
  },
  {
   "cell_type": "code",
   "execution_count": null,
   "id": "correct-member",
   "metadata": {},
   "outputs": [],
   "source": []
  },
  {
   "cell_type": "code",
   "execution_count": null,
   "id": "romantic-pollution",
   "metadata": {},
   "outputs": [],
   "source": []
  },
  {
   "cell_type": "code",
   "execution_count": null,
   "id": "cathedral-shareware",
   "metadata": {},
   "outputs": [],
   "source": []
  },
  {
   "cell_type": "code",
   "execution_count": null,
   "id": "loose-volleyball",
   "metadata": {},
   "outputs": [],
   "source": []
  }
 ],
 "metadata": {
  "kernelspec": {
   "display_name": "Python 3 (ipykernel)",
   "language": "python",
   "name": "python3"
  },
  "language_info": {
   "codemirror_mode": {
    "name": "ipython",
    "version": 3
   },
   "file_extension": ".py",
   "mimetype": "text/x-python",
   "name": "python",
   "nbconvert_exporter": "python",
   "pygments_lexer": "ipython3",
   "version": "3.8.6"
  }
 },
 "nbformat": 4,
 "nbformat_minor": 5
}
